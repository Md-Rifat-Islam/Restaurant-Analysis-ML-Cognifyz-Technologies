{
  "nbformat": 4,
  "nbformat_minor": 0,
  "metadata": {
    "colab": {
      "provenance": [],
      "toc_visible": true
    },
    "kernelspec": {
      "name": "python3",
      "display_name": "Python 3"
    },
    "language_info": {
      "name": "python"
    }
  },
  "cells": [
    {
      "cell_type": "markdown",
      "source": [
        "# **Task 1: Predict Restaurant Ratings**"
      ],
      "metadata": {
        "id": "DAi6Xsew___P"
      }
    },
    {
      "cell_type": "code",
      "execution_count": null,
      "metadata": {
        "id": "TSc_D_vd_xFU"
      },
      "outputs": [],
      "source": [
        "# Import required libraries\n",
        "import pandas as pd\n",
        "import numpy as np\n",
        "import matplotlib.pyplot as plt\n",
        "import seaborn as sns\n",
        "from sklearn.model_selection import train_test_split\n",
        "from sklearn.linear_model import LinearRegression\n",
        "from sklearn.tree import DecisionTreeRegressor\n",
        "from sklearn.ensemble import RandomForestRegressor\n",
        "from sklearn.metrics import mean_squared_error, r2_score, accuracy_score\n",
        "from sklearn.preprocessing import LabelEncoder, OneHotEncoder\n",
        "from sklearn.compose import ColumnTransformer\n",
        "\n",
        "import warnings\n",
        "\n",
        "warnings.filterwarnings('ignore')"
      ]
    },
    {
      "cell_type": "code",
      "source": [
        "# Load the dataset\n",
        "file_path = '/content/drive/MyDrive/ML Projects/Cognifyz Technologies/MACHINE LEARNING TASK LIST AND DATASET/Restaurant_Reviews.csv'\n",
        "df = pd.read_csv(file_path)"
      ],
      "metadata": {
        "id": "ZkNL_clbAo6j"
      },
      "execution_count": null,
      "outputs": []
    },
    {
      "cell_type": "markdown",
      "source": [
        "# Step 1: Preprocessing"
      ],
      "metadata": {
        "id": "2CkMZeJXjWFs"
      }
    },
    {
      "cell_type": "markdown",
      "source": [
        "## Step 1.1 : Handle Missing Values"
      ],
      "metadata": {
        "id": "mPQOK7Y0oSbH"
      }
    },
    {
      "cell_type": "code",
      "source": [
        "print(\"Missing Values:\\n\", df.isnull().sum())\n",
        "df.fillna(df.median(numeric_only=True), inplace=True)\n",
        "df.fillna('Unknown', inplace=True)"
      ],
      "metadata": {
        "colab": {
          "base_uri": "https://localhost:8080/"
        },
        "id": "4Za-BVidCL1e",
        "outputId": "afd65541-ae74-4627-ea45-8be95a11d4b3"
      },
      "execution_count": null,
      "outputs": [
        {
          "output_type": "stream",
          "name": "stdout",
          "text": [
            "Missing Values:\n",
            " Restaurant ID           0\n",
            "Restaurant Name         0\n",
            "Country Code            0\n",
            "City                    0\n",
            "Address                 0\n",
            "Locality                0\n",
            "Locality Verbose        0\n",
            "Longitude               0\n",
            "Latitude                0\n",
            "Cuisines                9\n",
            "Average Cost for two    0\n",
            "Currency                0\n",
            "Has Table booking       0\n",
            "Has Online delivery     0\n",
            "Is delivering now       0\n",
            "Switch to order menu    0\n",
            "Price range             0\n",
            "Aggregate rating        0\n",
            "Rating color            0\n",
            "Rating text             0\n",
            "Votes                   0\n",
            "dtype: int64\n"
          ]
        }
      ]
    },
    {
      "cell_type": "markdown",
      "source": [
        "## 1.2 Encode categorical variables"
      ],
      "metadata": {
        "id": "Ctv127_boe-_"
      }
    },
    {
      "cell_type": "code",
      "source": [
        "# Display data types of all columns\n",
        "print(\"Data Types of Each Column:\")\n",
        "print(df.dtypes)"
      ],
      "metadata": {
        "colab": {
          "base_uri": "https://localhost:8080/"
        },
        "id": "4DQUeglYs02x",
        "outputId": "e1a2068b-8806-4154-8328-8d2ac9be17c2"
      },
      "execution_count": null,
      "outputs": [
        {
          "output_type": "stream",
          "name": "stdout",
          "text": [
            "Data Types of Each Column:\n",
            "Restaurant ID             int64\n",
            "Restaurant Name          object\n",
            "Country Code              int64\n",
            "City                     object\n",
            "Address                  object\n",
            "Locality                 object\n",
            "Locality Verbose         object\n",
            "Longitude               float64\n",
            "Latitude                float64\n",
            "Cuisines                 object\n",
            "Average Cost for two      int64\n",
            "Currency                 object\n",
            "Has Table booking        object\n",
            "Has Online delivery      object\n",
            "Is delivering now        object\n",
            "Switch to order menu     object\n",
            "Price range               int64\n",
            "Aggregate rating        float64\n",
            "Rating color             object\n",
            "Rating text              object\n",
            "Votes                     int64\n",
            "dtype: object\n"
          ]
        }
      ]
    },
    {
      "cell_type": "code",
      "source": [
        "# Initialize label encoder\n",
        "label_encoder = LabelEncoder()\n",
        "\n",
        "data_frame = df.copy()\n",
        "\n",
        "# List of columns to encode (example: categorical columns like 'Restaurant Name', 'City')\n",
        "categorical_columns = ['Restaurant Name', 'City', 'Address', 'Locality', 'Locality Verbose', 'Cuisines', 'Currency', 'Has Table booking',\n",
        "                       'Has Online delivery', 'Is delivering now', 'Switch to order menu', 'Rating color', 'Rating text']\n",
        "\n",
        "# Apply label encoding to each categorical column\n",
        "for col in categorical_columns:\n",
        "    df[col] = label_encoder.fit_transform(df[col])\n",
        "\n",
        "print(\"Data after Label Encoding:\")\n",
        "print(df.head())\n"
      ],
      "metadata": {
        "colab": {
          "base_uri": "https://localhost:8080/"
        },
        "id": "1HGPTA9rtvvh",
        "outputId": "37e0a050-5997-48c1-d1af-15544fe06d74"
      },
      "execution_count": null,
      "outputs": [
        {
          "output_type": "stream",
          "name": "stdout",
          "text": [
            "Data after Label Encoding:\n",
            "   Restaurant ID  Restaurant Name  Country Code  City  Address  Locality  \\\n",
            "0        6317637             3748           162    73     8685       171   \n",
            "1        6304287             3172           162    73     6055       593   \n",
            "2        6300002             2896           162    75     4684       308   \n",
            "3        6318506             4707           162    75     8690       862   \n",
            "4        6314302             5523           162    75     8689       862   \n",
            "\n",
            "   Locality Verbose   Longitude   Latitude  Cuisines  ...  Currency  \\\n",
            "0               172  121.027535  14.565443       920  ...         0   \n",
            "1               601  121.014101  14.553708      1111  ...         0   \n",
            "2               314  121.056831  14.581404      1671  ...         0   \n",
            "3               875  121.056475  14.585318      1126  ...         0   \n",
            "4               875  121.057508  14.584450      1122  ...         0   \n",
            "\n",
            "   Has Table booking  Has Online delivery  Is delivering now  \\\n",
            "0                  1                    0                  0   \n",
            "1                  1                    0                  0   \n",
            "2                  1                    0                  0   \n",
            "3                  0                    0                  0   \n",
            "4                  1                    0                  0   \n",
            "\n",
            "   Switch to order menu  Price range  Aggregate rating  Rating color  \\\n",
            "0                     0            3               4.8             0   \n",
            "1                     0            3               4.5             0   \n",
            "2                     0            4               4.4             1   \n",
            "3                     0            4               4.9             0   \n",
            "4                     0            4               4.8             0   \n",
            "\n",
            "   Rating text  Votes  \n",
            "0            1    314  \n",
            "1            1    591  \n",
            "2            5    270  \n",
            "3            1    365  \n",
            "4            1    229  \n",
            "\n",
            "[5 rows x 21 columns]\n"
          ]
        }
      ]
    },
    {
      "cell_type": "markdown",
      "source": [
        "## 1.3 Feature Selection"
      ],
      "metadata": {
        "id": "drUbO-30or-Q"
      }
    },
    {
      "cell_type": "markdown",
      "source": [
        "### 1.3.1 : Features Correlation Matrix"
      ],
      "metadata": {
        "id": "hDq5TexYqHLi"
      }
    },
    {
      "cell_type": "code",
      "source": [
        "# Calculate the correlation matrix\n",
        "correlation_matrix = df.corr()\n",
        "\n",
        "# Display the correlation matrix\n",
        "# print(\"\\nCorrelation Matrix:\")\n",
        "# print(correlation_matrix)\n",
        "\n",
        "target_corr = correlation_matrix['Aggregate rating']\n",
        "\n",
        "print(\"\\nCorrelation with Target:\")\n",
        "print(target_corr.sort_values())"
      ],
      "metadata": {
        "colab": {
          "base_uri": "https://localhost:8080/"
        },
        "id": "hXjU_KRHlpCe",
        "outputId": "4dc9ea11-4206-40ec-bd9d-143668848267"
      },
      "execution_count": null,
      "outputs": [
        {
          "output_type": "stream",
          "name": "stdout",
          "text": [
            "\n",
            "Correlation with Target:\n",
            "Rating color           -0.367054\n",
            "Restaurant ID          -0.326212\n",
            "Rating text            -0.182662\n",
            "Locality               -0.174336\n",
            "Locality Verbose       -0.173253\n",
            "Address                -0.151153\n",
            "City                   -0.132163\n",
            "Longitude              -0.116818\n",
            "Cuisines               -0.079504\n",
            "Currency               -0.006939\n",
            "Latitude                0.000516\n",
            "Is delivering now       0.019180\n",
            "Restaurant Name         0.029047\n",
            "Average Cost for two    0.051792\n",
            "Has Table booking       0.189998\n",
            "Has Online delivery     0.225699\n",
            "Country Code            0.282189\n",
            "Votes                   0.313691\n",
            "Price range             0.437944\n",
            "Aggregate rating        1.000000\n",
            "Switch to order menu         NaN\n",
            "Name: Aggregate rating, dtype: float64\n"
          ]
        }
      ]
    },
    {
      "cell_type": "markdown",
      "source": [
        "### 1.3.2 : Feature Importance (Tree-Based Models)"
      ],
      "metadata": {
        "id": "yeHDASfFnllS"
      }
    },
    {
      "cell_type": "code",
      "source": [
        "from sklearn.ensemble import RandomForestRegressor\n",
        "import pandas as pd\n",
        "\n",
        "X0 = df.drop('Aggregate rating', axis=1)\n",
        "y0 = df['Aggregate rating']\n",
        "\n",
        "model = RandomForestRegressor()\n",
        "model.fit(X0, y0)\n",
        "feature_importance = pd.DataFrame({\n",
        "    'Feature': X0.columns,\n",
        "    'Importance': model.feature_importances_\n",
        "}).sort_values(by='Importance', ascending=False)\n",
        "\n",
        "print(\"\\nFeature Importance using Tree-based models:\")\n",
        "print(feature_importance)"
      ],
      "metadata": {
        "colab": {
          "base_uri": "https://localhost:8080/"
        },
        "id": "fA250CNinh4C",
        "outputId": "c573eb4f-34b9-4ee2-f9b5-840b42ffd1b4"
      },
      "execution_count": null,
      "outputs": [
        {
          "output_type": "stream",
          "name": "stdout",
          "text": [
            "\n",
            "Feature Importance using Tree-based models:\n",
            "                 Feature  Importance\n",
            "19                 Votes    0.899367\n",
            "17          Rating color    0.083624\n",
            "18           Rating text    0.005409\n",
            "0          Restaurant ID    0.002281\n",
            "7              Longitude    0.001379\n",
            "1        Restaurant Name    0.001357\n",
            "4                Address    0.001312\n",
            "9               Cuisines    0.001233\n",
            "8               Latitude    0.001211\n",
            "10  Average Cost for two    0.000898\n",
            "5               Locality    0.000585\n",
            "6       Locality Verbose    0.000563\n",
            "13   Has Online delivery    0.000302\n",
            "3                   City    0.000197\n",
            "16           Price range    0.000140\n",
            "12     Has Table booking    0.000061\n",
            "11              Currency    0.000031\n",
            "14     Is delivering now    0.000030\n",
            "2           Country Code    0.000020\n",
            "15  Switch to order menu    0.000000\n"
          ]
        }
      ]
    },
    {
      "cell_type": "code",
      "source": [
        "# Creating DataFrames\n",
        "corr_df = pd.DataFrame(target_corr)\n",
        "importance_df = pd.DataFrame(feature_importance)\n",
        "\n",
        "print(corr_df.columns)        # To check column names in the correlation DataFrame\n",
        "print(importance_df.columns)  # To check column names in the importance DataFrame"
      ],
      "metadata": {
        "colab": {
          "base_uri": "https://localhost:8080/"
        },
        "id": "tEZjJZ42cUoJ",
        "outputId": "88962ee0-61bf-4e02-dcb5-bba99b64056a"
      },
      "execution_count": null,
      "outputs": [
        {
          "output_type": "stream",
          "name": "stdout",
          "text": [
            "Index(['Aggregate rating'], dtype='object')\n",
            "Index(['Feature', 'Importance'], dtype='object')\n"
          ]
        }
      ]
    },
    {
      "cell_type": "code",
      "source": [
        "# Reset the index of correlation DataFrame to create a 'Feature' column\n",
        "corr_df = corr_df.reset_index()\n",
        "corr_df.columns = ['Feature', 'Correlation']  # Rename columns to ensure consistency\n",
        "\n",
        "# Merge the DataFrames\n",
        "combined_df = corr_df.merge(importance_df, on='Feature')"
      ],
      "metadata": {
        "id": "WiM1LF8gec-c"
      },
      "execution_count": null,
      "outputs": []
    },
    {
      "cell_type": "code",
      "source": [
        "# Select features with absolute correlation > 0.2 and importance > threshold (e.g., 0.001)\n",
        "threshold_correlation = 0.3\n",
        "threshold_importance = 0.002\n",
        "selected_features = combined_df[\n",
        "    (combined_df['Correlation'].abs() > threshold_correlation) |\n",
        "    (combined_df['Importance'] > threshold_importance)\n",
        "].sort_values(by='Importance', ascending=False)\n",
        "\n",
        "print(selected_features[['Feature', 'Correlation', 'Importance']], '\\n')\n",
        "\n",
        "# Extract top 3 or 5 features based on importance\n",
        "top_features_3 = selected_features.head(3)['Feature'].tolist()  # Top 3 features\n",
        "top_features_5 = selected_features.head(5)['Feature'].tolist()  # Top 5 features\n",
        "\n",
        "# Choose one based on your requirement\n",
        "top_features = top_features_5  # or top_features_5 for top 5 features\n",
        "\n",
        "print(\"Top Features:\", top_features)\n"
      ],
      "metadata": {
        "colab": {
          "base_uri": "https://localhost:8080/"
        },
        "id": "nPWysqJ3d3k6",
        "outputId": "c9d3cd0c-abd5-44ea-aaef-64520648b3aa"
      },
      "execution_count": null,
      "outputs": [
        {
          "output_type": "stream",
          "name": "stdout",
          "text": [
            "          Feature  Correlation  Importance\n",
            "19          Votes     0.313691    0.899367\n",
            "17   Rating color    -0.367054    0.083624\n",
            "18    Rating text    -0.182662    0.005409\n",
            "0   Restaurant ID    -0.326212    0.002281\n",
            "16    Price range     0.437944    0.000140 \n",
            "\n",
            "Top Features: ['Votes', 'Rating color', 'Rating text', 'Restaurant ID', 'Price range']\n"
          ]
        }
      ]
    },
    {
      "cell_type": "code",
      "source": [
        "# Original DataFrame (X)\n",
        "selected_features = top_features\n",
        "X_selected = df[selected_features]\n",
        "\n",
        "print(X_selected.head())"
      ],
      "metadata": {
        "colab": {
          "base_uri": "https://localhost:8080/"
        },
        "id": "b1dE0-QEpqbR",
        "outputId": "871f9b5f-3dc0-41a7-e57f-156242b96bc7"
      },
      "execution_count": null,
      "outputs": [
        {
          "output_type": "stream",
          "name": "stdout",
          "text": [
            "   Votes  Rating color  Rating text  Restaurant ID  Price range\n",
            "0    314             0            1        6317637            3\n",
            "1    591             0            1        6304287            3\n",
            "2    270             1            5        6300002            4\n",
            "3    365             0            1        6318506            4\n",
            "4    229             0            1        6314302            4\n"
          ]
        }
      ]
    },
    {
      "cell_type": "code",
      "source": [
        "# Separate features and target variable\n",
        "X = X_selected.drop('Restaurant ID', axis=1)  # As Restaurant ID is irrevalent\n",
        "y = df['Aggregate rating']"
      ],
      "metadata": {
        "id": "Q-awVcCbo33D"
      },
      "execution_count": null,
      "outputs": []
    },
    {
      "cell_type": "markdown",
      "source": [
        "## 1.4 Split the data"
      ],
      "metadata": {
        "id": "l6aHmYv5rNKJ"
      }
    },
    {
      "cell_type": "code",
      "source": [
        "X_train, X_test, y_train, y_test = train_test_split(X, y, test_size=0.2, random_state=42)"
      ],
      "metadata": {
        "id": "gdwgmrCLdh9E"
      },
      "execution_count": null,
      "outputs": []
    },
    {
      "cell_type": "markdown",
      "source": [
        "# Step 2: Train a Regression Model"
      ],
      "metadata": {
        "id": "_e3vBncAjcTz"
      }
    },
    {
      "cell_type": "code",
      "source": [
        "# Initialize model\n",
        "linear_model = LinearRegression()\n",
        "decision_tree_model = DecisionTreeRegressor(random_state=42)\n",
        "random_forest_model = RandomForestRegressor(random_state=42)\n",
        "\n",
        "# Train models\n",
        "linear_model.fit(X_train, y_train)\n",
        "decision_tree_model.fit(X_train, y_train)\n",
        "random_forest_model.fit(X_train, y_train)"
      ],
      "metadata": {
        "colab": {
          "base_uri": "https://localhost:8080/",
          "height": 80
        },
        "id": "J64c2YKCdoDm",
        "outputId": "ad36cccf-1e64-493e-e088-76d2176e5a74"
      },
      "execution_count": null,
      "outputs": [
        {
          "output_type": "execute_result",
          "data": {
            "text/plain": [
              "RandomForestRegressor(random_state=42)"
            ],
            "text/html": [
              "<style>#sk-container-id-1 {\n",
              "  /* Definition of color scheme common for light and dark mode */\n",
              "  --sklearn-color-text: #000;\n",
              "  --sklearn-color-text-muted: #666;\n",
              "  --sklearn-color-line: gray;\n",
              "  /* Definition of color scheme for unfitted estimators */\n",
              "  --sklearn-color-unfitted-level-0: #fff5e6;\n",
              "  --sklearn-color-unfitted-level-1: #f6e4d2;\n",
              "  --sklearn-color-unfitted-level-2: #ffe0b3;\n",
              "  --sklearn-color-unfitted-level-3: chocolate;\n",
              "  /* Definition of color scheme for fitted estimators */\n",
              "  --sklearn-color-fitted-level-0: #f0f8ff;\n",
              "  --sklearn-color-fitted-level-1: #d4ebff;\n",
              "  --sklearn-color-fitted-level-2: #b3dbfd;\n",
              "  --sklearn-color-fitted-level-3: cornflowerblue;\n",
              "\n",
              "  /* Specific color for light theme */\n",
              "  --sklearn-color-text-on-default-background: var(--sg-text-color, var(--theme-code-foreground, var(--jp-content-font-color1, black)));\n",
              "  --sklearn-color-background: var(--sg-background-color, var(--theme-background, var(--jp-layout-color0, white)));\n",
              "  --sklearn-color-border-box: var(--sg-text-color, var(--theme-code-foreground, var(--jp-content-font-color1, black)));\n",
              "  --sklearn-color-icon: #696969;\n",
              "\n",
              "  @media (prefers-color-scheme: dark) {\n",
              "    /* Redefinition of color scheme for dark theme */\n",
              "    --sklearn-color-text-on-default-background: var(--sg-text-color, var(--theme-code-foreground, var(--jp-content-font-color1, white)));\n",
              "    --sklearn-color-background: var(--sg-background-color, var(--theme-background, var(--jp-layout-color0, #111)));\n",
              "    --sklearn-color-border-box: var(--sg-text-color, var(--theme-code-foreground, var(--jp-content-font-color1, white)));\n",
              "    --sklearn-color-icon: #878787;\n",
              "  }\n",
              "}\n",
              "\n",
              "#sk-container-id-1 {\n",
              "  color: var(--sklearn-color-text);\n",
              "}\n",
              "\n",
              "#sk-container-id-1 pre {\n",
              "  padding: 0;\n",
              "}\n",
              "\n",
              "#sk-container-id-1 input.sk-hidden--visually {\n",
              "  border: 0;\n",
              "  clip: rect(1px 1px 1px 1px);\n",
              "  clip: rect(1px, 1px, 1px, 1px);\n",
              "  height: 1px;\n",
              "  margin: -1px;\n",
              "  overflow: hidden;\n",
              "  padding: 0;\n",
              "  position: absolute;\n",
              "  width: 1px;\n",
              "}\n",
              "\n",
              "#sk-container-id-1 div.sk-dashed-wrapped {\n",
              "  border: 1px dashed var(--sklearn-color-line);\n",
              "  margin: 0 0.4em 0.5em 0.4em;\n",
              "  box-sizing: border-box;\n",
              "  padding-bottom: 0.4em;\n",
              "  background-color: var(--sklearn-color-background);\n",
              "}\n",
              "\n",
              "#sk-container-id-1 div.sk-container {\n",
              "  /* jupyter's `normalize.less` sets `[hidden] { display: none; }`\n",
              "     but bootstrap.min.css set `[hidden] { display: none !important; }`\n",
              "     so we also need the `!important` here to be able to override the\n",
              "     default hidden behavior on the sphinx rendered scikit-learn.org.\n",
              "     See: https://github.com/scikit-learn/scikit-learn/issues/21755 */\n",
              "  display: inline-block !important;\n",
              "  position: relative;\n",
              "}\n",
              "\n",
              "#sk-container-id-1 div.sk-text-repr-fallback {\n",
              "  display: none;\n",
              "}\n",
              "\n",
              "div.sk-parallel-item,\n",
              "div.sk-serial,\n",
              "div.sk-item {\n",
              "  /* draw centered vertical line to link estimators */\n",
              "  background-image: linear-gradient(var(--sklearn-color-text-on-default-background), var(--sklearn-color-text-on-default-background));\n",
              "  background-size: 2px 100%;\n",
              "  background-repeat: no-repeat;\n",
              "  background-position: center center;\n",
              "}\n",
              "\n",
              "/* Parallel-specific style estimator block */\n",
              "\n",
              "#sk-container-id-1 div.sk-parallel-item::after {\n",
              "  content: \"\";\n",
              "  width: 100%;\n",
              "  border-bottom: 2px solid var(--sklearn-color-text-on-default-background);\n",
              "  flex-grow: 1;\n",
              "}\n",
              "\n",
              "#sk-container-id-1 div.sk-parallel {\n",
              "  display: flex;\n",
              "  align-items: stretch;\n",
              "  justify-content: center;\n",
              "  background-color: var(--sklearn-color-background);\n",
              "  position: relative;\n",
              "}\n",
              "\n",
              "#sk-container-id-1 div.sk-parallel-item {\n",
              "  display: flex;\n",
              "  flex-direction: column;\n",
              "}\n",
              "\n",
              "#sk-container-id-1 div.sk-parallel-item:first-child::after {\n",
              "  align-self: flex-end;\n",
              "  width: 50%;\n",
              "}\n",
              "\n",
              "#sk-container-id-1 div.sk-parallel-item:last-child::after {\n",
              "  align-self: flex-start;\n",
              "  width: 50%;\n",
              "}\n",
              "\n",
              "#sk-container-id-1 div.sk-parallel-item:only-child::after {\n",
              "  width: 0;\n",
              "}\n",
              "\n",
              "/* Serial-specific style estimator block */\n",
              "\n",
              "#sk-container-id-1 div.sk-serial {\n",
              "  display: flex;\n",
              "  flex-direction: column;\n",
              "  align-items: center;\n",
              "  background-color: var(--sklearn-color-background);\n",
              "  padding-right: 1em;\n",
              "  padding-left: 1em;\n",
              "}\n",
              "\n",
              "\n",
              "/* Toggleable style: style used for estimator/Pipeline/ColumnTransformer box that is\n",
              "clickable and can be expanded/collapsed.\n",
              "- Pipeline and ColumnTransformer use this feature and define the default style\n",
              "- Estimators will overwrite some part of the style using the `sk-estimator` class\n",
              "*/\n",
              "\n",
              "/* Pipeline and ColumnTransformer style (default) */\n",
              "\n",
              "#sk-container-id-1 div.sk-toggleable {\n",
              "  /* Default theme specific background. It is overwritten whether we have a\n",
              "  specific estimator or a Pipeline/ColumnTransformer */\n",
              "  background-color: var(--sklearn-color-background);\n",
              "}\n",
              "\n",
              "/* Toggleable label */\n",
              "#sk-container-id-1 label.sk-toggleable__label {\n",
              "  cursor: pointer;\n",
              "  display: flex;\n",
              "  width: 100%;\n",
              "  margin-bottom: 0;\n",
              "  padding: 0.5em;\n",
              "  box-sizing: border-box;\n",
              "  text-align: center;\n",
              "  align-items: start;\n",
              "  justify-content: space-between;\n",
              "  gap: 0.5em;\n",
              "}\n",
              "\n",
              "#sk-container-id-1 label.sk-toggleable__label .caption {\n",
              "  font-size: 0.6rem;\n",
              "  font-weight: lighter;\n",
              "  color: var(--sklearn-color-text-muted);\n",
              "}\n",
              "\n",
              "#sk-container-id-1 label.sk-toggleable__label-arrow:before {\n",
              "  /* Arrow on the left of the label */\n",
              "  content: \"▸\";\n",
              "  float: left;\n",
              "  margin-right: 0.25em;\n",
              "  color: var(--sklearn-color-icon);\n",
              "}\n",
              "\n",
              "#sk-container-id-1 label.sk-toggleable__label-arrow:hover:before {\n",
              "  color: var(--sklearn-color-text);\n",
              "}\n",
              "\n",
              "/* Toggleable content - dropdown */\n",
              "\n",
              "#sk-container-id-1 div.sk-toggleable__content {\n",
              "  max-height: 0;\n",
              "  max-width: 0;\n",
              "  overflow: hidden;\n",
              "  text-align: left;\n",
              "  /* unfitted */\n",
              "  background-color: var(--sklearn-color-unfitted-level-0);\n",
              "}\n",
              "\n",
              "#sk-container-id-1 div.sk-toggleable__content.fitted {\n",
              "  /* fitted */\n",
              "  background-color: var(--sklearn-color-fitted-level-0);\n",
              "}\n",
              "\n",
              "#sk-container-id-1 div.sk-toggleable__content pre {\n",
              "  margin: 0.2em;\n",
              "  border-radius: 0.25em;\n",
              "  color: var(--sklearn-color-text);\n",
              "  /* unfitted */\n",
              "  background-color: var(--sklearn-color-unfitted-level-0);\n",
              "}\n",
              "\n",
              "#sk-container-id-1 div.sk-toggleable__content.fitted pre {\n",
              "  /* unfitted */\n",
              "  background-color: var(--sklearn-color-fitted-level-0);\n",
              "}\n",
              "\n",
              "#sk-container-id-1 input.sk-toggleable__control:checked~div.sk-toggleable__content {\n",
              "  /* Expand drop-down */\n",
              "  max-height: 200px;\n",
              "  max-width: 100%;\n",
              "  overflow: auto;\n",
              "}\n",
              "\n",
              "#sk-container-id-1 input.sk-toggleable__control:checked~label.sk-toggleable__label-arrow:before {\n",
              "  content: \"▾\";\n",
              "}\n",
              "\n",
              "/* Pipeline/ColumnTransformer-specific style */\n",
              "\n",
              "#sk-container-id-1 div.sk-label input.sk-toggleable__control:checked~label.sk-toggleable__label {\n",
              "  color: var(--sklearn-color-text);\n",
              "  background-color: var(--sklearn-color-unfitted-level-2);\n",
              "}\n",
              "\n",
              "#sk-container-id-1 div.sk-label.fitted input.sk-toggleable__control:checked~label.sk-toggleable__label {\n",
              "  background-color: var(--sklearn-color-fitted-level-2);\n",
              "}\n",
              "\n",
              "/* Estimator-specific style */\n",
              "\n",
              "/* Colorize estimator box */\n",
              "#sk-container-id-1 div.sk-estimator input.sk-toggleable__control:checked~label.sk-toggleable__label {\n",
              "  /* unfitted */\n",
              "  background-color: var(--sklearn-color-unfitted-level-2);\n",
              "}\n",
              "\n",
              "#sk-container-id-1 div.sk-estimator.fitted input.sk-toggleable__control:checked~label.sk-toggleable__label {\n",
              "  /* fitted */\n",
              "  background-color: var(--sklearn-color-fitted-level-2);\n",
              "}\n",
              "\n",
              "#sk-container-id-1 div.sk-label label.sk-toggleable__label,\n",
              "#sk-container-id-1 div.sk-label label {\n",
              "  /* The background is the default theme color */\n",
              "  color: var(--sklearn-color-text-on-default-background);\n",
              "}\n",
              "\n",
              "/* On hover, darken the color of the background */\n",
              "#sk-container-id-1 div.sk-label:hover label.sk-toggleable__label {\n",
              "  color: var(--sklearn-color-text);\n",
              "  background-color: var(--sklearn-color-unfitted-level-2);\n",
              "}\n",
              "\n",
              "/* Label box, darken color on hover, fitted */\n",
              "#sk-container-id-1 div.sk-label.fitted:hover label.sk-toggleable__label.fitted {\n",
              "  color: var(--sklearn-color-text);\n",
              "  background-color: var(--sklearn-color-fitted-level-2);\n",
              "}\n",
              "\n",
              "/* Estimator label */\n",
              "\n",
              "#sk-container-id-1 div.sk-label label {\n",
              "  font-family: monospace;\n",
              "  font-weight: bold;\n",
              "  display: inline-block;\n",
              "  line-height: 1.2em;\n",
              "}\n",
              "\n",
              "#sk-container-id-1 div.sk-label-container {\n",
              "  text-align: center;\n",
              "}\n",
              "\n",
              "/* Estimator-specific */\n",
              "#sk-container-id-1 div.sk-estimator {\n",
              "  font-family: monospace;\n",
              "  border: 1px dotted var(--sklearn-color-border-box);\n",
              "  border-radius: 0.25em;\n",
              "  box-sizing: border-box;\n",
              "  margin-bottom: 0.5em;\n",
              "  /* unfitted */\n",
              "  background-color: var(--sklearn-color-unfitted-level-0);\n",
              "}\n",
              "\n",
              "#sk-container-id-1 div.sk-estimator.fitted {\n",
              "  /* fitted */\n",
              "  background-color: var(--sklearn-color-fitted-level-0);\n",
              "}\n",
              "\n",
              "/* on hover */\n",
              "#sk-container-id-1 div.sk-estimator:hover {\n",
              "  /* unfitted */\n",
              "  background-color: var(--sklearn-color-unfitted-level-2);\n",
              "}\n",
              "\n",
              "#sk-container-id-1 div.sk-estimator.fitted:hover {\n",
              "  /* fitted */\n",
              "  background-color: var(--sklearn-color-fitted-level-2);\n",
              "}\n",
              "\n",
              "/* Specification for estimator info (e.g. \"i\" and \"?\") */\n",
              "\n",
              "/* Common style for \"i\" and \"?\" */\n",
              "\n",
              ".sk-estimator-doc-link,\n",
              "a:link.sk-estimator-doc-link,\n",
              "a:visited.sk-estimator-doc-link {\n",
              "  float: right;\n",
              "  font-size: smaller;\n",
              "  line-height: 1em;\n",
              "  font-family: monospace;\n",
              "  background-color: var(--sklearn-color-background);\n",
              "  border-radius: 1em;\n",
              "  height: 1em;\n",
              "  width: 1em;\n",
              "  text-decoration: none !important;\n",
              "  margin-left: 0.5em;\n",
              "  text-align: center;\n",
              "  /* unfitted */\n",
              "  border: var(--sklearn-color-unfitted-level-1) 1pt solid;\n",
              "  color: var(--sklearn-color-unfitted-level-1);\n",
              "}\n",
              "\n",
              ".sk-estimator-doc-link.fitted,\n",
              "a:link.sk-estimator-doc-link.fitted,\n",
              "a:visited.sk-estimator-doc-link.fitted {\n",
              "  /* fitted */\n",
              "  border: var(--sklearn-color-fitted-level-1) 1pt solid;\n",
              "  color: var(--sklearn-color-fitted-level-1);\n",
              "}\n",
              "\n",
              "/* On hover */\n",
              "div.sk-estimator:hover .sk-estimator-doc-link:hover,\n",
              ".sk-estimator-doc-link:hover,\n",
              "div.sk-label-container:hover .sk-estimator-doc-link:hover,\n",
              ".sk-estimator-doc-link:hover {\n",
              "  /* unfitted */\n",
              "  background-color: var(--sklearn-color-unfitted-level-3);\n",
              "  color: var(--sklearn-color-background);\n",
              "  text-decoration: none;\n",
              "}\n",
              "\n",
              "div.sk-estimator.fitted:hover .sk-estimator-doc-link.fitted:hover,\n",
              ".sk-estimator-doc-link.fitted:hover,\n",
              "div.sk-label-container:hover .sk-estimator-doc-link.fitted:hover,\n",
              ".sk-estimator-doc-link.fitted:hover {\n",
              "  /* fitted */\n",
              "  background-color: var(--sklearn-color-fitted-level-3);\n",
              "  color: var(--sklearn-color-background);\n",
              "  text-decoration: none;\n",
              "}\n",
              "\n",
              "/* Span, style for the box shown on hovering the info icon */\n",
              ".sk-estimator-doc-link span {\n",
              "  display: none;\n",
              "  z-index: 9999;\n",
              "  position: relative;\n",
              "  font-weight: normal;\n",
              "  right: .2ex;\n",
              "  padding: .5ex;\n",
              "  margin: .5ex;\n",
              "  width: min-content;\n",
              "  min-width: 20ex;\n",
              "  max-width: 50ex;\n",
              "  color: var(--sklearn-color-text);\n",
              "  box-shadow: 2pt 2pt 4pt #999;\n",
              "  /* unfitted */\n",
              "  background: var(--sklearn-color-unfitted-level-0);\n",
              "  border: .5pt solid var(--sklearn-color-unfitted-level-3);\n",
              "}\n",
              "\n",
              ".sk-estimator-doc-link.fitted span {\n",
              "  /* fitted */\n",
              "  background: var(--sklearn-color-fitted-level-0);\n",
              "  border: var(--sklearn-color-fitted-level-3);\n",
              "}\n",
              "\n",
              ".sk-estimator-doc-link:hover span {\n",
              "  display: block;\n",
              "}\n",
              "\n",
              "/* \"?\"-specific style due to the `<a>` HTML tag */\n",
              "\n",
              "#sk-container-id-1 a.estimator_doc_link {\n",
              "  float: right;\n",
              "  font-size: 1rem;\n",
              "  line-height: 1em;\n",
              "  font-family: monospace;\n",
              "  background-color: var(--sklearn-color-background);\n",
              "  border-radius: 1rem;\n",
              "  height: 1rem;\n",
              "  width: 1rem;\n",
              "  text-decoration: none;\n",
              "  /* unfitted */\n",
              "  color: var(--sklearn-color-unfitted-level-1);\n",
              "  border: var(--sklearn-color-unfitted-level-1) 1pt solid;\n",
              "}\n",
              "\n",
              "#sk-container-id-1 a.estimator_doc_link.fitted {\n",
              "  /* fitted */\n",
              "  border: var(--sklearn-color-fitted-level-1) 1pt solid;\n",
              "  color: var(--sklearn-color-fitted-level-1);\n",
              "}\n",
              "\n",
              "/* On hover */\n",
              "#sk-container-id-1 a.estimator_doc_link:hover {\n",
              "  /* unfitted */\n",
              "  background-color: var(--sklearn-color-unfitted-level-3);\n",
              "  color: var(--sklearn-color-background);\n",
              "  text-decoration: none;\n",
              "}\n",
              "\n",
              "#sk-container-id-1 a.estimator_doc_link.fitted:hover {\n",
              "  /* fitted */\n",
              "  background-color: var(--sklearn-color-fitted-level-3);\n",
              "}\n",
              "</style><div id=\"sk-container-id-1\" class=\"sk-top-container\"><div class=\"sk-text-repr-fallback\"><pre>RandomForestRegressor(random_state=42)</pre><b>In a Jupyter environment, please rerun this cell to show the HTML representation or trust the notebook. <br />On GitHub, the HTML representation is unable to render, please try loading this page with nbviewer.org.</b></div><div class=\"sk-container\" hidden><div class=\"sk-item\"><div class=\"sk-estimator fitted sk-toggleable\"><input class=\"sk-toggleable__control sk-hidden--visually\" id=\"sk-estimator-id-1\" type=\"checkbox\" checked><label for=\"sk-estimator-id-1\" class=\"sk-toggleable__label fitted sk-toggleable__label-arrow\"><div><div>RandomForestRegressor</div></div><div><a class=\"sk-estimator-doc-link fitted\" rel=\"noreferrer\" target=\"_blank\" href=\"https://scikit-learn.org/1.6/modules/generated/sklearn.ensemble.RandomForestRegressor.html\">?<span>Documentation for RandomForestRegressor</span></a><span class=\"sk-estimator-doc-link fitted\">i<span>Fitted</span></span></div></label><div class=\"sk-toggleable__content fitted\"><pre>RandomForestRegressor(random_state=42)</pre></div> </div></div></div></div>"
            ]
          },
          "metadata": {},
          "execution_count": 14
        }
      ]
    },
    {
      "cell_type": "markdown",
      "source": [
        "# Step 3: Evaluate the Models"
      ],
      "metadata": {
        "id": "Jz2TTEITjgCd"
      }
    },
    {
      "cell_type": "code",
      "source": [
        "# Predictions\n",
        "linear_preds = linear_model.predict(X_test)\n",
        "dt_preds = decision_tree_model.predict(X_test)\n",
        "rf_preds = random_forest_model.predict(X_test)"
      ],
      "metadata": {
        "id": "7yjh8F9xfymF"
      },
      "execution_count": null,
      "outputs": []
    },
    {
      "cell_type": "code",
      "source": [
        "def evaluate_model(name, y_test, preds):\n",
        "    # Calculate metrics\n",
        "    mse = mean_squared_error(y_test, preds)\n",
        "    r2 = r2_score(y_test, preds)\n",
        "\n",
        "    # Calculate RMSE for better interpretation\n",
        "    rmse = np.sqrt(mse)\n",
        "\n",
        "    # Calculate accuracy\n",
        "    #accuracy = 1 - (sum(abs(y_test - preds)) / sum(y_test))\n",
        "\n",
        "    # Print metrics\n",
        "    print(f\"{name} --> Mean Squared Error: {mse:.4f} | R-squared: {r2:.4f} | RMSE: {rmse:.4f}\")\n",
        "\n",
        "    # Return metrics for comparison\n",
        "    return {'name': name, 'MSE': mse, 'R-squared': r2, 'RMSE': rmse}\n",
        "\n",
        "# Store evaluation results for all models\n",
        "linear_results = evaluate_model(\"Linear Regression       \", y_test, linear_preds)\n",
        "dt_results = evaluate_model(\"Decision Tree Regression\", y_test, dt_preds)\n",
        "rf_results = evaluate_model(\"Random Forest Regression\", y_test, rf_preds)"
      ],
      "metadata": {
        "colab": {
          "base_uri": "https://localhost:8080/"
        },
        "id": "4t1r_oqZfztU",
        "outputId": "01ed7595-1f9a-41d3-8370-a4a2eaf10c65"
      },
      "execution_count": null,
      "outputs": [
        {
          "output_type": "stream",
          "name": "stdout",
          "text": [
            "Linear Regression        --> Mean Squared Error: 1.4743 | R-squared: 0.3523 | RMSE: 1.2142\n",
            "Decision Tree Regression --> Mean Squared Error: 0.0423 | R-squared: 0.9814 | RMSE: 0.2058\n",
            "Random Forest Regression --> Mean Squared Error: 0.0349 | R-squared: 0.9847 | RMSE: 0.1869\n"
          ]
        }
      ]
    },
    {
      "cell_type": "code",
      "source": [
        "# Compare models based on MSE, R-squared, and RMSE\n",
        "models = [linear_results, dt_results, rf_results]\n",
        "\n",
        "# Initialize best_model with a very high MSE value\n",
        "best_model = None\n",
        "best_score = float('inf')  # Start with the best (lowest) MSE value\n",
        "\n",
        "# Select the best model based on the metrics\n",
        "for model in models:\n",
        "    if model['MSE'] < best_score:  # Select R-squared or MSE or RMSE\n",
        "        best_score = model['MSE']\n",
        "        best_model = model\n",
        "\n",
        "# Output the best model\n",
        "print(f\"The best model is: {best_model['name']}\")"
      ],
      "metadata": {
        "colab": {
          "base_uri": "https://localhost:8080/"
        },
        "id": "KaBL8O0eiG6u",
        "outputId": "87f4cc08-0702-47e3-8a8f-dbf735ec5018"
      },
      "execution_count": null,
      "outputs": [
        {
          "output_type": "stream",
          "name": "stdout",
          "text": [
            "The best model is: Random Forest Regression\n"
          ]
        }
      ]
    },
    {
      "cell_type": "markdown",
      "source": [
        "# Step 4: Interpret Results"
      ],
      "metadata": {
        "id": "J9alRq2zkds0"
      }
    },
    {
      "cell_type": "code",
      "source": [
        "best_model_name = best_model['name']\n",
        "if best_model_name == \"Linear Regression       \":\n",
        "    best_model = linear_model\n",
        "elif best_model_name == \"Decision Tree Regression\":\n",
        "    best_model = decision_tree_model\n",
        "elif best_model_name == \"Random Forest Regression\":\n",
        "    best_model = random_forest_model\n",
        "\n",
        "# Feature Importance for Tree-based models\n",
        "feature_importance = pd.DataFrame({\n",
        "    'Feature': X.columns,\n",
        "    'Importance': best_model.feature_importances_\n",
        "}).sort_values(by='Importance', ascending=False)\n",
        "\n",
        "print(f\"\\nFeature Importance ({best_model}):\")\n",
        "print(feature_importance)"
      ],
      "metadata": {
        "colab": {
          "base_uri": "https://localhost:8080/"
        },
        "id": "t3nQSAgpkeyg",
        "outputId": "323ab934-7949-421c-d435-d114ec00fb32"
      },
      "execution_count": null,
      "outputs": [
        {
          "output_type": "stream",
          "name": "stdout",
          "text": [
            "\n",
            "Feature Importance (RandomForestRegressor(random_state=42)):\n",
            "        Feature  Importance\n",
            "0         Votes    0.909055\n",
            "1  Rating color    0.082027\n",
            "2   Rating text    0.008051\n",
            "3   Price range    0.000867\n"
          ]
        }
      ]
    },
    {
      "cell_type": "code",
      "source": [
        "# Plot feature importance\n",
        "plt.figure(figsize=(10, 6))\n",
        "sns.barplot(x='Importance', y='Feature', data=feature_importance)\n",
        "plt.title(f\"\\nFeature Importance ({best_model}):\")\n",
        "plt.show()"
      ],
      "metadata": {
        "colab": {
          "base_uri": "https://localhost:8080/",
          "height": 585
        },
        "id": "5-bOgNQskwTg",
        "outputId": "236e2906-93e7-4dc2-ca82-ac8dc2a2163f"
      },
      "execution_count": null,
      "outputs": [
        {
          "output_type": "display_data",
          "data": {
            "text/plain": [
              "<Figure size 1000x600 with 1 Axes>"
            ],
            "image/png": "[encoded data removed]"
          },
          "metadata": {}
        }
      ]
    },
    {
      "cell_type": "code",
      "source": [
        "# Actual vs Predicted Ratings\n",
        "plt.figure(figsize=(8, 6))\n",
        "plt.scatter(y_test, rf_preds, alpha=0.6, color='r')\n",
        "plt.title(f'Actual vs Predicted Ratings ({best_model})')\n",
        "plt.xlabel('Actual Ratings')\n",
        "plt.ylabel('Predicted Ratings')\n",
        "plt.show()"
      ],
      "metadata": {
        "colab": {
          "base_uri": "https://localhost:8080/",
          "height": 564
        },
        "id": "FZyOKs6fk1Ts",
        "outputId": "10d9152d-3a60-4b96-bdac-b3deaa0a4f34"
      },
      "execution_count": null,
      "outputs": [
        {
          "output_type": "display_data",
          "data": {
            "text/plain": [
              "<Figure size 800x600 with 1 Axes>"
            ],
            "image/png": "[encoded data removed]"
          },
          "metadata": {}
        }
      ]
    },
    {
      "cell_type": "code",
      "source": [
        "# Extract unique values from the dataset\n",
        "# Clean values to ensure no special characters or extra spaces\n",
        "rating_color_values = [str(color).strip() for color in data_frame['Rating color'].unique()]\n",
        "rating_text_values = [str(text).strip() for text in data_frame['Rating text'].unique()]\n",
        "price_range_values = sorted([int(price) for price in data_frame['Price range'].unique()])  # Ensure sorted numeric values"
      ],
      "metadata": {
        "id": "pQpg8vBILPgv"
      },
      "execution_count": null,
      "outputs": []
    },
    {
      "cell_type": "code",
      "source": [
        "import joblib\n",
        "\n",
        "# Saving the best model to a file\n",
        "joblib.dump(best_model, 'predict_restaurant_model.pkl')\n",
        "\n",
        "print(\"Model saved as 'predict_restaurant_model.pkl'\")"
      ],
      "metadata": {
        "colab": {
          "base_uri": "https://localhost:8080/"
        },
        "id": "_ZSKhMOBHZ83",
        "outputId": "b8b73f15-e3b2-4a8e-8a95-3a36f5acfbc2"
      },
      "execution_count": null,
      "outputs": [
        {
          "output_type": "stream",
          "name": "stdout",
          "text": [
            "Model saved as 'best_model.pkl'\n"
          ]
        }
      ]
    },
    {
      "cell_type": "code",
      "source": [
        "import tkinter as tk\n",
        "from tkinter import ttk, messagebox\n",
        "import joblib\n",
        "\n",
        "\n",
        "# Loading the trained model\n",
        "model = joblib.load(\"predict_restaurant_model.pkl\")\n",
        "\n",
        "class RestaurantRatingsApp:\n",
        "    def __init__(self, master):\n",
        "        self.master = master\n",
        "        master.title(\"Restaurant Ratings Prediction App\")\n",
        "        master.geometry(\"500x600\")  # Set the window size\n",
        "\n",
        "        # Title\n",
        "        self.label = tk.Label(master, text=\"Restaurant Ratings Predictor\", font=(\"Helvetica\", 16, \"bold\"))\n",
        "        self.label.pack(pady=10)\n",
        "\n",
        "        # Input fields\n",
        "        self.create_input_field(\"Votes:\", \"int\")\n",
        "        self.create_dropdown_field(\"Rating Color:\", rating_color_values)\n",
        "        self.create_dropdown_field(\"Rating Text:\", rating_text_values)\n",
        "        self.create_dropdown_field(\"Price Range:\", price_range_values)\n",
        "\n",
        "        # Predict button\n",
        "        self.predict_button = tk.Button(master, text=\"Predict Rating\", command=self.predict_rating, font=(\"Helvetica\", 12, \"bold\"), bg=\"green\", fg=\"white\")\n",
        "        self.predict_button.pack(pady=20)\n",
        "\n",
        "        # Result label\n",
        "        self.result_label = tk.Label(master, text=\"\", font=(\"Helvetica\", 14), fg=\"blue\")\n",
        "        self.result_label.pack(pady=10)\n",
        "\n",
        "    def create_input_field(self, label_text, input_type):\n",
        "        \"\"\"Create a labeled input field.\"\"\"\n",
        "        frame = tk.Frame(self.master)\n",
        "        frame.pack(pady=5)\n",
        "\n",
        "        label = tk.Label(frame, text=label_text, font=(\"Helvetica\", 12))\n",
        "        label.pack(side=tk.LEFT, padx=5)\n",
        "\n",
        "        entry = tk.Entry(frame, font=(\"Helvetica\", 12))\n",
        "        entry.pack(side=tk.LEFT, padx=5)\n",
        "\n",
        "        setattr(self, label_text.lower().replace(\" \", \"_\").replace(\":\", \"\"), entry)\n",
        "\n",
        "    def create_dropdown_field(self, label_text, options):\n",
        "        \"\"\"Create a labeled dropdown menu.\"\"\"\n",
        "        frame = tk.Frame(self.master)\n",
        "        frame.pack(pady=5)\n",
        "\n",
        "        label = tk.Label(frame, text=label_text, font=(\"Helvetica\", 12))\n",
        "        label.pack(side=tk.LEFT, padx=5)\n",
        "\n",
        "        # Ensure dropdown options are strings\n",
        "        options = [str(option) for option in options]\n",
        "\n",
        "        combo = ttk.Combobox(frame, values=options, font=(\"Helvetica\", 12))\n",
        "        combo.pack(side=tk.LEFT, padx=5)\n",
        "        combo.current(0)  # Set default value\n",
        "\n",
        "        setattr(self, label_text.lower().replace(\" \", \"_\").replace(\":\", \"\"), combo)\n",
        "\n",
        "    def predict_rating(self):\n",
        "        try:\n",
        "            # Extract and preprocess user inputs\n",
        "            votes = int(self.votes.get())  # Convert votes input to integer\n",
        "            rating_color = self.rating_color.get()\n",
        "            rating_text = self.rating_text.get()\n",
        "            price_range = int(self.price_range.get())  # Convert price range to integer\n",
        "\n",
        "            print(f\"Votes: {votes}, Rating Color: {rating_color}, Rating Text: {rating_text}, Price Range: {price_range}\")\n",
        "\n",
        "            # Encode categorical inputs as necessary\n",
        "            rating_color_encoded = rating_color_values.index(rating_color)\n",
        "            rating_text_encoded = rating_text_values.index(rating_text)\n",
        "\n",
        "            # Create input array for the model\n",
        "            features = np.array([[votes, rating_color_encoded, rating_text_encoded, price_range]])\n",
        "\n",
        "            # Predict rating\n",
        "            predicted_rating = model.predict(features)[0]\n",
        "\n",
        "            # Display result\n",
        "            self.result_label.config(text=f\"Predicted Rating: {predicted_rating:.2f}\")\n",
        "\n",
        "        except ValueError:\n",
        "            messagebox.showerror(\"Input Error\", \"Please enter valid inputs.\")\n",
        "        except Exception as e:\n",
        "            messagebox.showerror(\"Error\", f\"An error occurred: {str(e)}\")\n",
        "\n",
        "\n",
        "# Initialize Tkinter window\n",
        "root = tk.Tk()\n",
        "app = RestaurantRatingsApp(root)\n",
        "root.mainloop()\n"
      ],
      "metadata": {
        "id": "wIJYf-f3E-7D",
        "colab": {
          "base_uri": "https://localhost:8080/",
          "height": 332
        },
        "outputId": "a36b83e4-40d8-487e-9468-940a75bf927a"
      },
      "execution_count": null,
      "outputs": [
        {
          "output_type": "error",
          "ename": "TclError",
          "evalue": "no display name and no $DISPLAY environment variable",
          "traceback": [
            "\u001b[0;31m---------------------------------------------------------------------------\u001b[0m",
            "\u001b[0;31mTclError\u001b[0m                                  Traceback (most recent call last)",
            "\u001b[0;32m<ipython-input-29-504c6e7ec6e2>\u001b[0m in \u001b[0;36m<cell line: 121>\u001b[0;34m()\u001b[0m\n\u001b[1;32m    120\u001b[0m \u001b[0;31m# Main\u001b[0m\u001b[0;34m\u001b[0m\u001b[0;34m\u001b[0m\u001b[0m\n\u001b[1;32m    121\u001b[0m \u001b[0;32mif\u001b[0m \u001b[0m__name__\u001b[0m \u001b[0;34m==\u001b[0m \u001b[0;34m\"__main__\"\u001b[0m\u001b[0;34m:\u001b[0m\u001b[0;34m\u001b[0m\u001b[0;34m\u001b[0m\u001b[0m\n\u001b[0;32m--> 122\u001b[0;31m     \u001b[0mroot\u001b[0m \u001b[0;34m=\u001b[0m \u001b[0mtk\u001b[0m\u001b[0;34m.\u001b[0m\u001b[0mTk\u001b[0m\u001b[0;34m(\u001b[0m\u001b[0;34m)\u001b[0m\u001b[0;34m\u001b[0m\u001b[0;34m\u001b[0m\u001b[0m\n\u001b[0m\u001b[1;32m    123\u001b[0m     \u001b[0mapp\u001b[0m \u001b[0;34m=\u001b[0m \u001b[0mRestaurantRatingsApp\u001b[0m\u001b[0;34m(\u001b[0m\u001b[0mroot\u001b[0m\u001b[0;34m)\u001b[0m\u001b[0;34m\u001b[0m\u001b[0;34m\u001b[0m\u001b[0m\n\u001b[1;32m    124\u001b[0m     \u001b[0mroot\u001b[0m\u001b[0;34m.\u001b[0m\u001b[0mmainloop\u001b[0m\u001b[0;34m(\u001b[0m\u001b[0;34m)\u001b[0m\u001b[0;34m\u001b[0m\u001b[0;34m\u001b[0m\u001b[0m\n",
            "\u001b[0;32m/usr/lib/python3.10/tkinter/__init__.py\u001b[0m in \u001b[0;36m__init__\u001b[0;34m(self, screenName, baseName, className, useTk, sync, use)\u001b[0m\n\u001b[1;32m   2297\u001b[0m                 \u001b[0mbaseName\u001b[0m \u001b[0;34m=\u001b[0m \u001b[0mbaseName\u001b[0m \u001b[0;34m+\u001b[0m \u001b[0mext\u001b[0m\u001b[0;34m\u001b[0m\u001b[0;34m\u001b[0m\u001b[0m\n\u001b[1;32m   2298\u001b[0m         \u001b[0minteractive\u001b[0m \u001b[0;34m=\u001b[0m \u001b[0;32mFalse\u001b[0m\u001b[0;34m\u001b[0m\u001b[0;34m\u001b[0m\u001b[0m\n\u001b[0;32m-> 2299\u001b[0;31m         \u001b[0mself\u001b[0m\u001b[0;34m.\u001b[0m\u001b[0mtk\u001b[0m \u001b[0;34m=\u001b[0m \u001b[0m_tkinter\u001b[0m\u001b[0;34m.\u001b[0m\u001b[0mcreate\u001b[0m\u001b[0;34m(\u001b[0m\u001b[0mscreenName\u001b[0m\u001b[0;34m,\u001b[0m \u001b[0mbaseName\u001b[0m\u001b[0;34m,\u001b[0m \u001b[0mclassName\u001b[0m\u001b[0;34m,\u001b[0m \u001b[0minteractive\u001b[0m\u001b[0;34m,\u001b[0m \u001b[0mwantobjects\u001b[0m\u001b[0;34m,\u001b[0m \u001b[0museTk\u001b[0m\u001b[0;34m,\u001b[0m \u001b[0msync\u001b[0m\u001b[0;34m,\u001b[0m \u001b[0muse\u001b[0m\u001b[0;34m)\u001b[0m\u001b[0;34m\u001b[0m\u001b[0;34m\u001b[0m\u001b[0m\n\u001b[0m\u001b[1;32m   2300\u001b[0m         \u001b[0;32mif\u001b[0m \u001b[0museTk\u001b[0m\u001b[0;34m:\u001b[0m\u001b[0;34m\u001b[0m\u001b[0;34m\u001b[0m\u001b[0m\n\u001b[1;32m   2301\u001b[0m             \u001b[0mself\u001b[0m\u001b[0;34m.\u001b[0m\u001b[0m_loadtk\u001b[0m\u001b[0;34m(\u001b[0m\u001b[0;34m)\u001b[0m\u001b[0;34m\u001b[0m\u001b[0;34m\u001b[0m\u001b[0m\n",
            "\u001b[0;31mTclError\u001b[0m: no display name and no $DISPLAY environment variable"
          ]
        }
      ]
    }
  ]
}