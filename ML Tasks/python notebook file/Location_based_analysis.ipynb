{
  "cells": [
    {
      "cell_type": "markdown",
      "metadata": {
        "id": "jWb8fML0eA1b"
      },
      "source": [
        "# Locatioin Based Analysis"
      ]
    },
    {
      "cell_type": "code",
      "execution_count": null,
      "metadata": {
        "colab": {
          "background_save": true
        },
        "id": "TSc_D_vd_xFU"
      },
      "outputs": [],
      "source": [
        "# Import required libraries\n",
        "import pandas as pd\n",
        "import numpy as np\n",
        "import folium\n",
        "import matplotlib.pyplot as plt\n",
        "import seaborn as sns\n",
        "\n",
        "from folium.plugins import HeatMap\n",
        "from collections import Counter\n",
        "from sklearn.preprocessing import LabelEncoder, OneHotEncoder\n",
        "from sklearn.model_selection import train_test_split\n",
        "from sklearn.linear_model import LinearRegression\n",
        "from sklearn.tree import DecisionTreeRegressor\n",
        "from sklearn.ensemble import RandomForestRegressor, RandomForestClassifier\n",
        "from sklearn.metrics import mean_squared_error, r2_score, accuracy_score, classification_report, confusion_matrix\n",
        "from sklearn.compose import ColumnTransformer\n",
        "\n",
        "import warnings\n",
        "\n",
        "warnings.filterwarnings('ignore')\n",
        "\n",
        "# Mounting Google Drive (as dataset is in Google Drive)\n",
        "# from google.colab import drive\n",
        "# drive.mount('/content/drive')"
      ]
    },
    {
      "cell_type": "code",
      "execution_count": null,
      "metadata": {
        "colab": {
          "background_save": true
        },
        "id": "ZkNL_clbAo6j"
      },
      "outputs": [],
      "source": [
        "# Load the dataset\n",
        "file_path = '/content/drive/MyDrive/ML Projects/Cognifyz Technologies/MACHINE LEARNING TASK LIST AND DATASET/Restaurant_Reviews.csv'\n",
        "df = pd.read_csv(file_path)"
      ]
    },
    {
      "cell_type": "code",
      "execution_count": null,
      "metadata": {
        "colab": {
          "background_save": true,
          "base_uri": "https://localhost:8080/"
        },
        "id": "rhiMP5LUdqcS",
        "outputId": "2ac976f0-2390-4c9e-b78c-d90add975969"
      },
      "outputs": [
        {
          "name": "stdout",
          "output_type": "stream",
          "text": [
            "   Restaurant ID         Restaurant Name  Country Code              City  \\\n",
            "0        6317637        Le Petit Souffle           162       Makati City   \n",
            "1        6304287        Izakaya Kikufuji           162       Makati City   \n",
            "2        6300002  Heat - Edsa Shangri-La           162  Mandaluyong City   \n",
            "3        6318506                    Ooma           162  Mandaluyong City   \n",
            "4        6314302             Sambo Kojin           162  Mandaluyong City   \n",
            "\n",
            "                                             Address  \\\n",
            "0  Third Floor, Century City Mall, Kalayaan Avenu...   \n",
            "1  Little Tokyo, 2277 Chino Roces Avenue, Legaspi...   \n",
            "2  Edsa Shangri-La, 1 Garden Way, Ortigas, Mandal...   \n",
            "3  Third Floor, Mega Fashion Hall, SM Megamall, O...   \n",
            "4  Third Floor, Mega Atrium, SM Megamall, Ortigas...   \n",
            "\n",
            "                                     Locality  \\\n",
            "0   Century City Mall, Poblacion, Makati City   \n",
            "1  Little Tokyo, Legaspi Village, Makati City   \n",
            "2  Edsa Shangri-La, Ortigas, Mandaluyong City   \n",
            "3      SM Megamall, Ortigas, Mandaluyong City   \n",
            "4      SM Megamall, Ortigas, Mandaluyong City   \n",
            "\n",
            "                                    Locality Verbose   Longitude   Latitude  \\\n",
            "0  Century City Mall, Poblacion, Makati City, Mak...  121.027535  14.565443   \n",
            "1  Little Tokyo, Legaspi Village, Makati City, Ma...  121.014101  14.553708   \n",
            "2  Edsa Shangri-La, Ortigas, Mandaluyong City, Ma...  121.056831  14.581404   \n",
            "3  SM Megamall, Ortigas, Mandaluyong City, Mandal...  121.056475  14.585318   \n",
            "4  SM Megamall, Ortigas, Mandaluyong City, Mandal...  121.057508  14.584450   \n",
            "\n",
            "                           Cuisines  ...          Currency Has Table booking  \\\n",
            "0        French, Japanese, Desserts  ...  Botswana Pula(P)               Yes   \n",
            "1                          Japanese  ...  Botswana Pula(P)               Yes   \n",
            "2  Seafood, Asian, Filipino, Indian  ...  Botswana Pula(P)               Yes   \n",
            "3                   Japanese, Sushi  ...  Botswana Pula(P)                No   \n",
            "4                  Japanese, Korean  ...  Botswana Pula(P)               Yes   \n",
            "\n",
            "  Has Online delivery Is delivering now Switch to order menu Price range  \\\n",
            "0                  No                No                   No           3   \n",
            "1                  No                No                   No           3   \n",
            "2                  No                No                   No           4   \n",
            "3                  No                No                   No           4   \n",
            "4                  No                No                   No           4   \n",
            "\n",
            "   Aggregate rating  Rating color Rating text Votes  \n",
            "0               4.8    Dark Green   Excellent   314  \n",
            "1               4.5    Dark Green   Excellent   591  \n",
            "2               4.4         Green   Very Good   270  \n",
            "3               4.9    Dark Green   Excellent   365  \n",
            "4               4.8    Dark Green   Excellent   229  \n",
            "\n",
            "[5 rows x 21 columns]\n"
          ]
        }
      ],
      "source": [
        "# Display the first few rows of the dataset\n",
        "print(df.head())"
      ]
    },
    {
      "cell_type": "code",
      "execution_count": null,
      "metadata": {
        "colab": {
          "background_save": true,
          "base_uri": "https://localhost:8080/"
        },
        "id": "44KYhnd0ds7w",
        "outputId": "6a8e5368-8801-4957-feee-15e7475cba2e"
      },
      "outputs": [
        {
          "name": "stdout",
          "output_type": "stream",
          "text": [
            "Missing values per column:\n",
            "Restaurant ID           0\n",
            "Restaurant Name         0\n",
            "Country Code            0\n",
            "City                    0\n",
            "Address                 0\n",
            "Locality                0\n",
            "Locality Verbose        0\n",
            "Longitude               0\n",
            "Latitude                0\n",
            "Cuisines                9\n",
            "Average Cost for two    0\n",
            "Currency                0\n",
            "Has Table booking       0\n",
            "Has Online delivery     0\n",
            "Is delivering now       0\n",
            "Switch to order menu    0\n",
            "Price range             0\n",
            "Aggregate rating        0\n",
            "Rating color            0\n",
            "Rating text             0\n",
            "Votes                   0\n",
            "dtype: int64\n"
          ]
        }
      ],
      "source": [
        "# Check for null values and handle missing data\n",
        "print(\"Missing values per column:\")\n",
        "print(df.isnull().sum())\n",
        "\n",
        "# Drop rows with missing Latitude or Longitude\n",
        "df.dropna(subset=['Longitude', 'Latitude'], inplace=True)"
      ]
    },
    {
      "cell_type": "markdown",
      "metadata": {
        "id": "oRzfQ69gduzK"
      },
      "source": [
        "## Step 1: Visualize the Geographical Distribution"
      ]
    },
    {
      "cell_type": "code",
      "execution_count": null,
      "metadata": {
        "colab": {
          "background_save": true
        },
        "id": "kCra-2emd3s4"
      },
      "outputs": [],
      "source": [
        "# Create a base map centered on the average Latitude and Longitude\n",
        "restaurant_map = folium.Map(location=[df['Latitude'].mean(), df['Longitude'].mean()], zoom_start=10)"
      ]
    },
    {
      "cell_type": "code",
      "execution_count": null,
      "metadata": {
        "colab": {
          "background_save": true
        },
        "id": "LUZV1IYUd5dE"
      },
      "outputs": [],
      "source": [
        "# Add restaurant markers to the map\n",
        "for _, row in df.iterrows():\n",
        "    folium.Marker(location=[row['Latitude'], row['Longitude']],\n",
        "                  popup=f\"{row['Restaurant Name']} ({row['Cuisines']})\").add_to(restaurant_map)"
      ]
    },
    {
      "cell_type": "code",
      "execution_count": null,
      "metadata": {
        "colab": {
          "background_save": true,
          "base_uri": "https://localhost:8080/"
        },
        "id": "nrf95mqdd8RB",
        "outputId": "cba7b950-d581-4db1-bfbb-5f38f65376bf"
      },
      "outputs": [
        {
          "name": "stdout",
          "output_type": "stream",
          "text": [
            "Map saved as 'restaurants_map.html'\n"
          ]
        }
      ],
      "source": [
        "# Save and display the map\n",
        "restaurant_map.save('restaurants_map.html')\n",
        "print(\"Map saved as 'restaurants_map.html'\")"
      ]
    },
    {
      "cell_type": "code",
      "execution_count": null,
      "metadata": {
        "colab": {
          "base_uri": "https://localhost:8080/"
        },
        "id": "k62wtO1Ld-Xs",
        "outputId": "8129b57c-4e6c-4f8f-c15a-e06296f0bbe7"
      },
      "outputs": [
        {
          "name": "stdout",
          "output_type": "stream",
          "text": [
            "Heatmap saved as 'restaurants_heatmap.html'\n"
          ]
        }
      ],
      "source": [
        "# Heatmap for restaurant density\n",
        "heatmap_data = df[['Latitude', 'Longitude']].dropna()\n",
        "HeatMap(heatmap_data.values).add_to(restaurant_map)\n",
        "restaurant_map.save('restaurants_heatmap.html')\n",
        "print(\"Heatmap saved as 'restaurants_heatmap.html'\")"
      ]
    },
    {
      "cell_type": "markdown",
      "metadata": {
        "id": "Ys2L0IZNeKcy"
      },
      "source": [
        "## Step 2: Group by City and Analyze Concentration"
      ]
    },
    {
      "cell_type": "code",
      "execution_count": null,
      "metadata": {
        "colab": {
          "base_uri": "https://localhost:8080/"
        },
        "id": "tQtOb5rAeMqr",
        "outputId": "201395ef-ce7e-400d-8df7-2742da6d441a"
      },
      "outputs": [
        {
          "name": "stdout",
          "output_type": "stream",
          "text": [
            "Top 10 cities by number of restaurants:\n",
            "            City  Number of Restaurants\n",
            "88     New Delhi                   5473\n",
            "50       Gurgaon                   1118\n",
            "89         Noida                   1080\n",
            "43     Faridabad                    251\n",
            "48     Ghaziabad                     25\n",
            "17  Bhubaneshwar                     21\n",
            "69       Lucknow                     21\n",
            "5       Amritsar                     21\n",
            "2      Ahmedabad                     21\n",
            "51      Guwahati                     21\n"
          ]
        }
      ],
      "source": [
        "# Count number of restaurants per city\n",
        "restaurant_count = df.groupby('City').size().reset_index(name='Number of Restaurants')\n",
        "top_cities = restaurant_count.sort_values('Number of Restaurants', ascending=False).head(10)\n",
        "print(\"Top 10 cities by number of restaurants:\")\n",
        "print(top_cities)"
      ]
    },
    {
      "cell_type": "markdown",
      "metadata": {
        "id": "iUZpnzFXePcc"
      },
      "source": [
        "## Step 3: Calculate Statistics (Ratings, Price Range)"
      ]
    },
    {
      "cell_type": "code",
      "execution_count": null,
      "metadata": {
        "colab": {
          "base_uri": "https://localhost:8080/"
        },
        "id": "LkVnuYPseS7v",
        "outputId": "ea0dee0a-5e1b-42d2-9e3e-aa6d7585694e"
      },
      "outputs": [
        {
          "name": "stdout",
          "output_type": "stream",
          "text": [
            "City statistics:\n",
            "                 City  Average Rating  Average Price Range\n",
            "56         Inner City        4.900000             4.000000\n",
            "107       Quezon City        4.800000             3.000000\n",
            "73        Makati City        4.650000             3.000000\n",
            "95         Pasig City        4.633333             3.000000\n",
            "75   Mandaluyong City        4.625000             3.750000\n",
            "..                ...             ...                  ...\n",
            "88          New Delhi        2.438845             1.621597\n",
            "83          Montville        2.400000             3.000000\n",
            "78          Mc Millan        2.400000             1.000000\n",
            "89              Noida        2.036204             1.601852\n",
            "43          Faridabad        1.866932             1.454183\n",
            "\n",
            "[141 rows x 3 columns]\n"
          ]
        }
      ],
      "source": [
        "# Calculate average rating and price range per city\n",
        "city_stats = df.groupby('City').agg({\n",
        "    'Aggregate rating': 'mean',\n",
        "    'Price range': 'mean'\n",
        "}).reset_index()\n",
        "\n",
        "city_stats.rename(columns={'Aggregate rating': 'Average Rating', 'Price range': 'Average Price Range'}, inplace=True)\n",
        "print(\"City statistics:\")\n",
        "print(city_stats.sort_values('Average Rating', ascending=False))"
      ]
    },
    {
      "cell_type": "code",
      "execution_count": null,
      "metadata": {
        "colab": {
          "base_uri": "https://localhost:8080/"
        },
        "id": "aBvm3L37eVCD",
        "outputId": "3781ae13-f6ae-493c-e95f-cf47223ec5b6"
      },
      "outputs": [
        {
          "name": "stdout",
          "output_type": "stream",
          "text": [
            "Most common cuisine by city:\n",
            "City\n",
            "Abu Dhabi                   Indian\n",
            "Agra                  North Indian\n",
            "Ahmedabad             North Indian\n",
            "Albany                    American\n",
            "Allahabad             North Indian\n",
            "                        ...       \n",
            "Weirton                     Burger\n",
            "Wellington City               Cafe\n",
            "Winchester Bay              Burger\n",
            "Yorkton                      Asian\n",
            "��stanbul          Restaurant Cafe\n",
            "Name: Most Common Cuisine, Length: 141, dtype: object\n"
          ]
        }
      ],
      "source": [
        "# Most common cuisine per city\n",
        "def most_common_cuisine(cuisines):\n",
        "    cuisines_list = [c.strip() for c in str(cuisines).split(',')]\n",
        "    return Counter(cuisines_list).most_common(1)[0][0] if cuisines_list else \"Unknown\"\n",
        "\n",
        "df['Most Common Cuisine'] = df['Cuisines'].apply(most_common_cuisine)\n",
        "city_cuisine = df.groupby('City')['Most Common Cuisine'].apply(lambda x: x.mode()[0])\n",
        "print(\"Most common cuisine by city:\")\n",
        "print(city_cuisine)"
      ]
    },
    {
      "cell_type": "markdown",
      "metadata": {
        "id": "6kh_0RXyeWgt"
      },
      "source": [
        "## Step 4: Visualize Insights"
      ]
    },
    {
      "cell_type": "code",
      "execution_count": null,
      "metadata": {
        "colab": {
          "base_uri": "https://localhost:8080/",
          "height": 472
        },
        "id": "HapA8CG4eZFt",
        "outputId": "3fe24f14-e2fb-45c1-986d-8771db30a2a7"
      },
      "outputs": [
        {
          "data": {
            "image/png": "[encoded data removed]",
            "text/plain": [
              "<Figure size 640x480 with 1 Axes>"
            ]
          },
          "metadata": {},
          "output_type": "display_data"
        }
      ],
      "source": [
        "# Visualization: Top 10 cities by number of restaurants\n",
        "sns.barplot(data=top_cities, x='Number of Restaurants', y='City', palette='viridis')\n",
        "plt.title('Top 10 Cities by Number of Restaurants')\n",
        "plt.show()"
      ]
    },
    {
      "cell_type": "code",
      "execution_count": null,
      "metadata": {
        "colab": {
          "background_save": true,
          "base_uri": "https://localhost:8080/",
          "height": 1000
        },
        "id": "hqJ7PZcVebWE",
        "outputId": "6af34ca5-b901-4bdb-8e05-940d5a92c1fb"
      },
      "outputs": [
        {
          "ename": "NameError",
          "evalue": "name 'sns' is not defined",
          "output_type": "error",
          "traceback": [
            "\u001b[0;31m---------------------------------------------------------------------------\u001b[0m",
            "\u001b[0;31mNameError\u001b[0m                                 Traceback (most recent call last)",
            "\u001b[0;32m<ipython-input-1-7ed928065627>\u001b[0m in \u001b[0;36m<cell line: 2>\u001b[0;34m()\u001b[0m\n\u001b[1;32m      1\u001b[0m \u001b[0;31m# Visualization: Average rating vs price range\u001b[0m\u001b[0;34m\u001b[0m\u001b[0;34m\u001b[0m\u001b[0m\n\u001b[0;32m----> 2\u001b[0;31m \u001b[0msns\u001b[0m\u001b[0;34m.\u001b[0m\u001b[0mscatterplot\u001b[0m\u001b[0;34m(\u001b[0m\u001b[0mdata\u001b[0m\u001b[0;34m=\u001b[0m\u001b[0mcity_stats\u001b[0m\u001b[0;34m,\u001b[0m \u001b[0mx\u001b[0m\u001b[0;34m=\u001b[0m\u001b[0;34m'Average Price Range'\u001b[0m\u001b[0;34m,\u001b[0m \u001b[0my\u001b[0m\u001b[0;34m=\u001b[0m\u001b[0;34m'Average Rating'\u001b[0m\u001b[0;34m,\u001b[0m \u001b[0mhue\u001b[0m\u001b[0;34m=\u001b[0m\u001b[0;34m'City'\u001b[0m\u001b[0;34m,\u001b[0m \u001b[0msize\u001b[0m\u001b[0;34m=\u001b[0m\u001b[0;34m'Average Rating'\u001b[0m\u001b[0;34m,\u001b[0m \u001b[0msizes\u001b[0m\u001b[0;34m=\u001b[0m\u001b[0;34m(\u001b[0m\u001b[0;36m80\u001b[0m\u001b[0;34m,\u001b[0m \u001b[0;36m200\u001b[0m\u001b[0;34m)\u001b[0m\u001b[0;34m)\u001b[0m\u001b[0;34m\u001b[0m\u001b[0;34m\u001b[0m\u001b[0m\n\u001b[0m\u001b[1;32m      3\u001b[0m \u001b[0mplt\u001b[0m\u001b[0;34m.\u001b[0m\u001b[0mtitle\u001b[0m\u001b[0;34m(\u001b[0m\u001b[0;34m'Average Price Range vs Average Rating by City'\u001b[0m\u001b[0;34m)\u001b[0m\u001b[0;34m\u001b[0m\u001b[0;34m\u001b[0m\u001b[0m\n\u001b[1;32m      4\u001b[0m \u001b[0mplt\u001b[0m\u001b[0;34m.\u001b[0m\u001b[0mshow\u001b[0m\u001b[0;34m(\u001b[0m\u001b[0;34m)\u001b[0m\u001b[0;34m\u001b[0m\u001b[0;34m\u001b[0m\u001b[0m\n",
            "\u001b[0;31mNameError\u001b[0m: name 'sns' is not defined"
          ]
        }
      ],
      "source": [
        "# Visualization: Average rating vs price range\n",
        "sns.scatterplot(data=city_stats, x='Average Price Range', y='Average Rating', hue='City', size='Average Rating', sizes=(40, 200))\n",
        "plt.title('Average Price Range vs Average Rating by City')\n",
        "plt.show()"
      ]
    },
    {
      "cell_type": "markdown",
      "metadata": {
        "id": "V2OvePvvef2H"
      },
      "source": [
        "## Step 5: Save Processed Data and Findings"
      ]
    },
    {
      "cell_type": "code",
      "execution_count": null,
      "metadata": {
        "colab": {
          "base_uri": "https://localhost:8080/"
        },
        "id": "RWgdj18ScTDD",
        "outputId": "d6c3967c-2911-46ff-a295-37c49b640ecb"
      },
      "outputs": [
        {
          "name": "stdout",
          "output_type": "stream",
          "text": [
            "Processed data saved as 'processed_restaurant_data.csv'\n"
          ]
        }
      ],
      "source": [
        "# Save processed data\n",
        "df.to_csv('processed_restaurant_data.csv', index=False)\n",
        "print(\"Processed data saved as 'processed_restaurant_data.csv'\")\n"
      ]
    },
    {
      "cell_type": "code",
      "execution_count": null,
      "metadata": {
        "colab": {
          "base_uri": "https://localhost:8080/",
          "height": 52
        },
        "id": "YrOYIpb63SHy",
        "outputId": "8a329cdd-874d-453f-a685-53821bb2ce28"
      },
      "outputs": [
        {
          "data": {
            "application/javascript": [
              "\n",
              "    async function download(id, filename, size) {\n",
              "      if (!google.colab.kernel.accessAllowed) {\n",
              "        return;\n",
              "      }\n",
              "      const div = document.createElement('div');\n",
              "      const label = document.createElement('label');\n",
              "      label.textContent = `Downloading \"${filename}\": `;\n",
              "      div.appendChild(label);\n",
              "      const progress = document.createElement('progress');\n",
              "      progress.max = size;\n",
              "      div.appendChild(progress);\n",
              "      document.body.appendChild(div);\n",
              "\n",
              "      const buffers = [];\n",
              "      let downloaded = 0;\n",
              "\n",
              "      const channel = await google.colab.kernel.comms.open(id);\n",
              "      // Send a message to notify the kernel that we're ready.\n",
              "      channel.send({})\n",
              "\n",
              "      for await (const message of channel.messages) {\n",
              "        // Send a message to notify the kernel that we're ready.\n",
              "        channel.send({})\n",
              "        if (message.buffers) {\n",
              "          for (const buffer of message.buffers) {\n",
              "            buffers.push(buffer);\n",
              "            downloaded += buffer.byteLength;\n",
              "            progress.value = downloaded;\n",
              "          }\n",
              "        }\n",
              "      }\n",
              "      const blob = new Blob(buffers, {type: 'application/binary'});\n",
              "      const a = document.createElement('a');\n",
              "      a.href = window.URL.createObjectURL(blob);\n",
              "      a.download = filename;\n",
              "      div.appendChild(a);\n",
              "      a.click();\n",
              "      div.remove();\n",
              "    }\n",
              "  "
            ],
            "text/plain": [
              "<IPython.core.display.Javascript object>"
            ]
          },
          "metadata": {},
          "output_type": "display_data"
        },
        {
          "data": {
            "application/javascript": [
              "download(\"download_d658ec90-57cb-44bb-aed1-6ea8bd224191\", \"restaurants_map.html\", 7379727)"
            ],
            "text/plain": [
              "<IPython.core.display.Javascript object>"
            ]
          },
          "metadata": {},
          "output_type": "display_data"
        },
        {
          "data": {
            "application/javascript": [
              "\n",
              "    async function download(id, filename, size) {\n",
              "      if (!google.colab.kernel.accessAllowed) {\n",
              "        return;\n",
              "      }\n",
              "      const div = document.createElement('div');\n",
              "      const label = document.createElement('label');\n",
              "      label.textContent = `Downloading \"${filename}\": `;\n",
              "      div.appendChild(label);\n",
              "      const progress = document.createElement('progress');\n",
              "      progress.max = size;\n",
              "      div.appendChild(progress);\n",
              "      document.body.appendChild(div);\n",
              "\n",
              "      const buffers = [];\n",
              "      let downloaded = 0;\n",
              "\n",
              "      const channel = await google.colab.kernel.comms.open(id);\n",
              "      // Send a message to notify the kernel that we're ready.\n",
              "      channel.send({})\n",
              "\n",
              "      for await (const message of channel.messages) {\n",
              "        // Send a message to notify the kernel that we're ready.\n",
              "        channel.send({})\n",
              "        if (message.buffers) {\n",
              "          for (const buffer of message.buffers) {\n",
              "            buffers.push(buffer);\n",
              "            downloaded += buffer.byteLength;\n",
              "            progress.value = downloaded;\n",
              "          }\n",
              "        }\n",
              "      }\n",
              "      const blob = new Blob(buffers, {type: 'application/binary'});\n",
              "      const a = document.createElement('a');\n",
              "      a.href = window.URL.createObjectURL(blob);\n",
              "      a.download = filename;\n",
              "      div.appendChild(a);\n",
              "      a.click();\n",
              "      div.remove();\n",
              "    }\n",
              "  "
            ],
            "text/plain": [
              "<IPython.core.display.Javascript object>"
            ]
          },
          "metadata": {},
          "output_type": "display_data"
        },
        {
          "data": {
            "application/javascript": [
              "download(\"download_6a4075df-fc78-497a-871e-3f9e87194e07\", \"restaurants_heatmap.html\", 7621161)"
            ],
            "text/plain": [
              "<IPython.core.display.Javascript object>"
            ]
          },
          "metadata": {},
          "output_type": "display_data"
        }
      ],
      "source": [
        "from google.colab import files\n",
        "files.download('restaurants_map.html')\n",
        "files.download('restaurants_heatmap.html')"
      ]
    }
  ],
  "metadata": {
    "colab": {
      "provenance": []
    },
    "kernelspec": {
      "display_name": "Python 3",
      "name": "python3"
    },
    "language_info": {
      "name": "python"
    }
  },
  "nbformat": 4,
  "nbformat_minor": 0
}