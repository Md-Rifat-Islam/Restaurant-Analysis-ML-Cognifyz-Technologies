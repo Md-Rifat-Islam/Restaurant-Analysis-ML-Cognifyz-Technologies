{
  "nbformat": 4,
  "nbformat_minor": 0,
  "metadata": {
    "colab": {
      "provenance": []
    },
    "kernelspec": {
      "name": "python3",
      "display_name": "Python 3"
    },
    "language_info": {
      "name": "python"
    }
  },
  "cells": [
    {
      "cell_type": "markdown",
      "source": [
        "# **Task** 2: Restaurant Recommendation"
      ],
      "metadata": {
        "id": "5jj8ekJhIoAW"
      }
    },
    {
      "cell_type": "code",
      "execution_count": null,
      "metadata": {
        "id": "TSc_D_vd_xFU"
      },
      "outputs": [],
      "source": [
        "# Import required libraries\n",
        "import pandas as pd\n",
        "import numpy as np\n",
        "import matplotlib.pyplot as plt\n",
        "import seaborn as sns\n",
        "from sklearn.model_selection import train_test_split\n",
        "from sklearn.linear_model import LinearRegression\n",
        "from sklearn.tree import DecisionTreeRegressor\n",
        "from sklearn.ensemble import RandomForestRegressor\n",
        "from sklearn.metrics import mean_squared_error, r2_score, accuracy_score\n",
        "from sklearn.preprocessing import LabelEncoder, OneHotEncoder\n",
        "from sklearn.compose import ColumnTransformer\n",
        "from sklearn.feature_extraction.text import CountVectorizer\n",
        "from sklearn.metrics.pairwise import cosine_similarity\n",
        "import warnings\n",
        "\n",
        "warnings.filterwarnings('ignore')"
      ]
    },
    {
      "cell_type": "code",
      "source": [
        "# Load the dataset\n",
        "file_path = '/content/drive/MyDrive/ML Projects/Cognifyz Technologies/MACHINE LEARNING TASK LIST AND DATASET/Restaurant_Reviews.csv'\n",
        "df = pd.read_csv(file_path)\n",
        "data = df"
      ],
      "metadata": {
        "id": "ZkNL_clbAo6j"
      },
      "execution_count": null,
      "outputs": []
    },
    {
      "cell_type": "code",
      "source": [
        "# Display dataset info\n",
        "data.info()"
      ],
      "metadata": {
        "id": "n2jMRn8b1k0A",
        "colab": {
          "base_uri": "https://localhost:8080/"
        },
        "outputId": "939aa32b-d21c-4b15-8709-6c02a7e8a171"
      },
      "execution_count": null,
      "outputs": [
        {
          "output_type": "stream",
          "name": "stdout",
          "text": [
            "<class 'pandas.core.frame.DataFrame'>\n",
            "RangeIndex: 9551 entries, 0 to 9550\n",
            "Data columns (total 21 columns):\n",
            " #   Column                Non-Null Count  Dtype  \n",
            "---  ------                --------------  -----  \n",
            " 0   Restaurant ID         9551 non-null   int64  \n",
            " 1   Restaurant Name       9551 non-null   object \n",
            " 2   Country Code          9551 non-null   int64  \n",
            " 3   City                  9551 non-null   object \n",
            " 4   Address               9551 non-null   object \n",
            " 5   Locality              9551 non-null   object \n",
            " 6   Locality Verbose      9551 non-null   object \n",
            " 7   Longitude             9551 non-null   float64\n",
            " 8   Latitude              9551 non-null   float64\n",
            " 9   Cuisines              9542 non-null   object \n",
            " 10  Average Cost for two  9551 non-null   int64  \n",
            " 11  Currency              9551 non-null   object \n",
            " 12  Has Table booking     9551 non-null   object \n",
            " 13  Has Online delivery   9551 non-null   object \n",
            " 14  Is delivering now     9551 non-null   object \n",
            " 15  Switch to order menu  9551 non-null   object \n",
            " 16  Price range           9551 non-null   int64  \n",
            " 17  Aggregate rating      9551 non-null   float64\n",
            " 18  Rating color          9551 non-null   object \n",
            " 19  Rating text           9551 non-null   object \n",
            " 20  Votes                 9551 non-null   int64  \n",
            "dtypes: float64(3), int64(5), object(13)\n",
            "memory usage: 1.5+ MB\n"
          ]
        }
      ]
    },
    {
      "cell_type": "code",
      "source": [
        "# Display data types of all columns\n",
        "# print(\"Data Types of Each Column:\")\n",
        "# print(data.dtypes)"
      ],
      "metadata": {
        "id": "4DQUeglYs02x"
      },
      "execution_count": null,
      "outputs": []
    },
    {
      "cell_type": "markdown",
      "source": [
        "## Step 1: Preprocess the dataset"
      ],
      "metadata": {
        "id": "lFcrzISLIhdY"
      }
    },
    {
      "cell_type": "code",
      "source": [
        "# print(\"Missing Values:\\n\", df.isnull().sum())\n",
        "data.fillna(data.median(numeric_only=True), inplace=True)\n",
        "data.fillna('Unknown', inplace=True)\n",
        "\n",
        "# Encoding categorical variables\n",
        "label_encoders = {}\n",
        "categorical_columns = [\"Currency\", \"Has Table booking\", \"Has Online delivery\", \"Is delivering now\", \"Switch to order menu\", \"Rating color\", \"Rating text\"]\n",
        "for col in categorical_columns:\n",
        "    le = LabelEncoder()\n",
        "    data[col] = le.fit_transform(data[col])\n",
        "    label_encoders[col] = le\n",
        "\n",
        "# Combining important features for content-based filtering\n",
        "# Features: Cuisines, City, and Price Range\n",
        "data[\"combined_features\"] = data[\"Cuisines\"] + \" \" + data[\"City\"] + \" \" + data[\"Price range\"].astype(str)"
      ],
      "metadata": {
        "id": "1HX76Zc4F7B4"
      },
      "execution_count": null,
      "outputs": []
    },
    {
      "cell_type": "markdown",
      "source": [
        "## Step 2: Determine criteria for recommendations"
      ],
      "metadata": {
        "id": "I9X6CIUSI42m"
      }
    },
    {
      "cell_type": "code",
      "source": [
        "# Vectorizing the combined features\n",
        "cv = CountVectorizer()\n",
        "feature_matrix = cv.fit_transform(data[\"combined_features\"])\n",
        "\n",
        "# Compute similarity matrix\n",
        "similarity_matrix = cosine_similarity(feature_matrix)"
      ],
      "metadata": {
        "id": "mpUQHxhKI0Kg"
      },
      "execution_count": null,
      "outputs": []
    },
    {
      "cell_type": "markdown",
      "source": [
        "## Step 3: Content-based filtering"
      ],
      "metadata": {
        "id": "QlxMnBy8I-l3"
      }
    },
    {
      "cell_type": "code",
      "source": [
        "def parse_user_input(user_input):\n",
        "    user_criteria = user_input.split()  # Split input into tokens\n",
        "    cuisine = None\n",
        "    city = None\n",
        "    price = None\n",
        "\n",
        "    for item in user_criteria:\n",
        "        if item.isdigit():  # Check if input is numeric (for price range)\n",
        "            price = int(item)\n",
        "        elif item.capitalize() in data[\"City\"].unique():  # Match with cities\n",
        "            city = item.capitalize()\n",
        "        else:  # Assume remaining input is cuisine\n",
        "            cuisine = item.capitalize()\n",
        "    return cuisine, city, price"
      ],
      "metadata": {
        "id": "FncjcsFQRuOy"
      },
      "execution_count": null,
      "outputs": []
    },
    {
      "cell_type": "code",
      "source": [
        "def recommend_restaurants(user_input, top_n=5):\n",
        "    cuisine, city, price = parse_user_input(user_input)\n",
        "\n",
        "    # Filter dataset\n",
        "    filtered_data = data.copy()\n",
        "    if cuisine:\n",
        "        filtered_data = filtered_data[filtered_data[\"Cuisines\"].str.contains(cuisine, case=False, na=False)]\n",
        "    if city:\n",
        "        filtered_data = filtered_data[filtered_data[\"City\"].str.contains(city, case=False, na=False)]\n",
        "    if price:\n",
        "        # Allow a ±10% tolerance for price matching\n",
        "        tolerance = 0.1\n",
        "        filtered_data = filtered_data[\n",
        "            (filtered_data[\"Average Cost for two\"] >= price * (1 - tolerance)) &\n",
        "            (filtered_data[\"Average Cost for two\"] <= price * (1 + tolerance))\n",
        "        ]\n",
        "\n",
        "    # Sort by aggregate rating or any other criteria\n",
        "    filtered_data = filtered_data.sort_values(by=\"Aggregate rating\", ascending=False)\n",
        "\n",
        "    # Return top-n recommendations\n",
        "    return filtered_data[[\"Restaurant Name\", \"Cuisines\", \"City\", \"Average Cost for two\", \"Aggregate rating\"]].head(top_n)\n"
      ],
      "metadata": {
        "id": "bovoSZcVRv_z"
      },
      "execution_count": null,
      "outputs": []
    },
    {
      "cell_type": "code",
      "source": [
        "# Function to recommend restaurants based on user preferences\n",
        "# def recommend_restaurants(user_input, top_n=5):\n",
        "#     if user_input.isdigit():  # If input is a price range\n",
        "#         filtered_data = data[data[\"Price range\"] == int(user_input)]\n",
        "#     else:\n",
        "#         # Find the closest match to user input in \"combined_features\"\n",
        "#         user_vector = cv.transform([user_input])\n",
        "#         user_similarity = cosine_similarity(user_vector, feature_matrix)\n",
        "\n",
        "#         # Get indices of top-n similar restaurants\n",
        "#         similar_indices = user_similarity.argsort()[0][::-1][:top_n]\n",
        "\n",
        "#         # Return the recommended restaurants\n",
        "#         filtered_data = data.iloc[similar_indices]\n",
        "#     return filtered_data[[\"Restaurant Name\", \"Cuisines\", \"City\", \"Aggregate rating\", \"Average Cost for two\"]]"
      ],
      "metadata": {
        "id": "9qC8J6rNI-9U"
      },
      "execution_count": null,
      "outputs": []
    },
    {
      "cell_type": "markdown",
      "source": [
        "## Step 4: Test the recommendation system"
      ],
      "metadata": {
        "id": "3WhRHmOJJGKV"
      }
    },
    {
      "cell_type": "code",
      "source": [
        "# Provide sample user preferences\n",
        "print(\"Input Foramt : Cuisine <space> City <space> Average Cost for two\")\n",
        "print(\"OR Give any one\")\n",
        "user_preferences = input(\"Enter your preferences (e.g., 'Italian Delhi 2'): \")  # User provides preferences\n",
        "recommendations = recommend_restaurants(user_preferences)\n",
        "\n",
        "# Display recommendations\n",
        "print(\"\\nTop Restaurant Recommendations:\\n\")\n",
        "print(recommendations)"
      ],
      "metadata": {
        "colab": {
          "base_uri": "https://localhost:8080/"
        },
        "id": "bESw6rkRJFH9",
        "outputId": "13658cbb-0c54-475f-fc8e-0033b57e2e3c"
      },
      "execution_count": null,
      "outputs": [
        {
          "output_type": "stream",
          "name": "stdout",
          "text": [
            "Enter your preferences (e.g., 'Italian Delhi 2'): uu\n",
            "\n",
            "Top Restaurant Recommendations:\n",
            "\n",
            "Empty DataFrame\n",
            "Columns: [Restaurant Name, Cuisines, City, Average Cost for two, Aggregate rating]\n",
            "Index: []\n"
          ]
        }
      ]
    },
    {
      "cell_type": "code",
      "source": [],
      "metadata": {
        "id": "KSV0cEmOLDDw"
      },
      "execution_count": null,
      "outputs": []
    }
  ]
}